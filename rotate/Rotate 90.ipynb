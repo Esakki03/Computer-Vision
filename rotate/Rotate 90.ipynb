{
 "cells": [
  {
   "cell_type": "code",
   "execution_count": null,
   "id": "fde154b2",
   "metadata": {},
   "outputs": [],
   "source": [
    "import cv2\n",
    "path = \"C:/Users/STAR/Pictures/OIP.jpg\"\n",
    "\n",
    "src = cv2.imread(path)\n",
    "window_name = 'Image'\n",
    "image = cv2.rotate(src, cv2.ROTATE_90_CLOCKWISE)\n",
    "cv2.imshow(window_name, image)\n",
    "cv2.waitKey(0)"
   ]
  },
  {
   "cell_type": "code",
   "execution_count": null,
   "id": "3835b809",
   "metadata": {},
   "outputs": [],
   "source": []
  }
 ],
 "metadata": {
  "kernelspec": {
   "display_name": "Python 3 (ipykernel)",
   "language": "python",
   "name": "python3"
  },
  "language_info": {
   "codemirror_mode": {
    "name": "ipython",
    "version": 3
   },
   "file_extension": ".py",
   "mimetype": "text/x-python",
   "name": "python",
   "nbconvert_exporter": "python",
   "pygments_lexer": "ipython3",
   "version": "3.11.3"
  }
 },
 "nbformat": 4,
 "nbformat_minor": 5
}
